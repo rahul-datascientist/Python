{
 "cells": [
  {
   "cell_type": "markdown",
   "metadata": {},
   "source": [
    "# Exploring Jupter Notebook - Magic Functions and Shortcuts"
   ]
  },
  {
   "cell_type": "markdown",
   "metadata": {},
   "source": [
    "### Important Jupyter Notebook shortcut "
   ]
  },
  {
   "cell_type": "raw",
   "metadata": {},
   "source": [
    "Command Mode (press Esc to enable)\n",
    "F : find and replace\n",
    "Shift-Enter : run cell, select below\n",
    "Ctrl-Enter : run selected cells\n",
    "Alt-Enter : run cell and insert below\n",
    "Y : change cell to code\n",
    "M : change cell to markdown\n",
    "1 : change cell to heading 1\n",
    "2 : change cell to heading 2\n",
    "3 : change cell to heading 3\n",
    "4 : change cell to heading 4\n",
    "5 : change cell to heading 5\n",
    "6 : change cell to heading 6\n",
    "A : insert cell above\n",
    "B : insert cell below\n",
    "Shift-M : merge selected cells, or current cell with cell below if only one cell is selected\n",
    "Ctrl-S : Save and Checkpoint\n",
    "S : Save and Checkpoint\n",
    "L : toggle line numbers\n",
    "Ctrl-/ : comment\n",
    "Ctrl-Shift-Minus : split cell at cursor\n",
    "\n",
    "Use Keyboard shortcut ESC + L to show line numbers for long code blocks\n",
    "\n",
    "! python --version --> use ! to run windows/Unix shell commands"
   ]
  },
  {
   "cell_type": "markdown",
   "metadata": {},
   "source": [
    "#### magic function :single-line expression with a magic function,- the single percentage or modulo symbol.Multi-line expression - double modulo symbols. \n",
    "\n",
    "matplotlib inline allow to show the visualizations created using the matplotlib package inside the Jupyter Notebook itself"
   ]
  },
  {
   "cell_type": "code",
   "execution_count": 1,
   "metadata": {
    "collapsed": true
   },
   "outputs": [],
   "source": [
    "%matplotlib inline"
   ]
  },
  {
   "cell_type": "markdown",
   "metadata": {},
   "source": [
    "#### magic function : time \n",
    "use to measure execution times"
   ]
  },
  {
   "cell_type": "code",
   "execution_count": 3,
   "metadata": {},
   "outputs": [
    {
     "name": "stdout",
     "output_type": "stream",
     "text": [
      "Wall time: 1 ms\n"
     ]
    }
   ],
   "source": [
    "%time x = range(10000)"
   ]
  },
  {
   "cell_type": "markdown",
   "metadata": {},
   "source": [
    "#### magic function : timeit \n",
    "perform the time evaluation multiple times, and will return back the average time taken"
   ]
  },
  {
   "cell_type": "code",
   "execution_count": 4,
   "metadata": {},
   "outputs": [
    {
     "name": "stdout",
     "output_type": "stream",
     "text": [
      "1000 loops, best of 3: 299 µs per loop\n"
     ]
    }
   ],
   "source": [
    "%%timeit x = range(10000)\n",
    "max(x)"
   ]
  },
  {
   "cell_type": "markdown",
   "metadata": {},
   "source": [
    "#### magic function : writefile\n",
    "create a file and write.If file is not available in the current working directory, then a new file will be created; however, if a file with the same name already exists in the current working directory, then it will be overwritten"
   ]
  },
  {
   "cell_type": "code",
   "execution_count": 5,
   "metadata": {},
   "outputs": [
    {
     "name": "stdout",
     "output_type": "stream",
     "text": [
      "Overwriting test.txt\n"
     ]
    }
   ],
   "source": [
    "%%writefile test.txt\n",
    "this is written from a jupter \n",
    "notebook"
   ]
  },
  {
   "cell_type": "markdown",
   "metadata": {},
   "source": [
    "#### magic function : ls\n",
    "Display file and directory in current directory in jupyter notebook"
   ]
  },
  {
   "cell_type": "code",
   "execution_count": 6,
   "metadata": {},
   "outputs": [
    {
     "name": "stdout",
     "output_type": "stream",
     "text": [
      " Volume in drive H is Stuffs\n",
      " Volume Serial Number is F34E-B8E0\n",
      "\n",
      " Directory of H:\\MyDropbox\\Dropbox\\Documents\\Abhishek\\Pluralsight\\Courses\\Course5\\course-dev\\python-data-science\\python-data-science-m2\\demo\\module2\n",
      "\n",
      "04-10-2016  23:38    <DIR>          .\n",
      "04-10-2016  23:38    <DIR>          ..\n",
      "04-10-2016  22:45    <DIR>          .ipynb_checkpoints\n",
      "04-10-2016  23:38            20,874 Exploring Jupter Notebook - Magic Functions.ipynb\n",
      "03-10-2016  01:42             3,547 My First Notebook.ipynb\n",
      "04-10-2016  23:41                40 test.txt\n",
      "               3 File(s)         24,461 bytes\n",
      "               3 Dir(s)  53,974,831,104 bytes free\n"
     ]
    }
   ],
   "source": [
    "%ls "
   ]
  },
  {
   "cell_type": "markdown",
   "metadata": {},
   "source": [
    "#### magic function : HTML\n",
    "To embed the HTML in the Jupyter notebook. in HTML we can embed image or youtube video "
   ]
  },
  {
   "cell_type": "code",
   "execution_count": 7,
   "metadata": {},
   "outputs": [
    {
     "data": {
      "text/html": [
       "<i> Image in jupyter notebook </i>\n",
       "<img src=\"http://imgs.xkcd.com/comics/correlation.png\" alt=\"image in jupyter notebook\"></img>"
      ],
      "text/plain": [
       "<IPython.core.display.HTML object>"
      ]
     },
     "metadata": {},
     "output_type": "display_data"
    }
   ],
   "source": [
    "%%HTML\n",
    "<i> Image in jupyter notebook </i>\n",
    "<img src=\"http://imgs.xkcd.com/comics/correlation.png\" alt=\"image in jupyter notebook\"></img>"
   ]
  },
  {
   "cell_type": "markdown",
   "metadata": {},
   "source": [
    "#### magic function : latex\n",
    "to embed any latex or equation"
   ]
  },
  {
   "cell_type": "code",
   "execution_count": 8,
   "metadata": {},
   "outputs": [
    {
     "data": {
      "text/latex": [
       "\\begin{align}\n",
       "Gradient : \\nabla J = - 2H^T (Y-HW)\n",
       "\\end{align}"
      ],
      "text/plain": [
       "<IPython.core.display.Latex object>"
      ]
     },
     "metadata": {},
     "output_type": "display_data"
    }
   ],
   "source": [
    "%%latex\n",
    "\\begin{align}\n",
    "Gradient : \\nabla J = - 2H^T (Y-HW)\n",
    "\\end{align}"
   ]
  },
  {
   "cell_type": "markdown",
   "metadata": {},
   "source": [
    "#### magic function : load_ext\n",
    "used to load other extensions. Let's use it to plug the SQL code right in this notebook"
   ]
  },
  {
   "cell_type": "code",
   "execution_count": null,
   "metadata": {},
   "outputs": [],
   "source": [
    "!pip install ipython-sql"
   ]
  },
  {
   "cell_type": "code",
   "execution_count": 1,
   "metadata": {
    "scrolled": true
   },
   "outputs": [
    {
     "data": {
      "text/plain": [
       "['Collecting ipython-sql',\n",
       " '  Downloading https://files.pythonhosted.org/packages/ab/df/427e7cf05ffc67e78672ad57dce2436c1e825129033effe6fcaf804d0c60/ipython_sql-0.3.9-py2.py3-none-any.whl',\n",
       " 'Requirement already satisfied: ipython-genutils>=0.1.0 in c:\\\\users\\\\saurabh\\\\appdata\\\\local\\\\programs\\\\python\\\\python36\\\\lib\\\\site-packages (from ipython-sql) (0.2.0)',\n",
       " 'Collecting prettytable (from ipython-sql)',\n",
       " '  Downloading https://files.pythonhosted.org/packages/ef/30/4b0746848746ed5941f052479e7c23d2b56d174b82f4fd34a25e389831f5/prettytable-0.7.2.tar.bz2',\n",
       " 'Requirement already satisfied: six in c:\\\\users\\\\saurabh\\\\appdata\\\\local\\\\programs\\\\python\\\\python36\\\\lib\\\\site-packages (from ipython-sql) (1.11.0)',\n",
       " 'Collecting sqlparse (from ipython-sql)',\n",
       " '  Downloading https://files.pythonhosted.org/packages/65/85/20bdd72f4537cf2c4d5d005368d502b2f464ede22982e724a82c86268eda/sqlparse-0.2.4-py2.py3-none-any.whl',\n",
       " 'Requirement already satisfied: ipython>=1.0 in c:\\\\users\\\\saurabh\\\\appdata\\\\local\\\\programs\\\\python\\\\python36\\\\lib\\\\site-packages (from ipython-sql) (6.2.1)',\n",
       " 'Requirement already satisfied: sqlalchemy>=0.6.7 in c:\\\\users\\\\saurabh\\\\appdata\\\\local\\\\programs\\\\python\\\\python36\\\\lib\\\\site-packages (from ipython-sql) (1.2.3)',\n",
       " 'Requirement already satisfied: colorama; sys_platform == \"win32\" in c:\\\\users\\\\saurabh\\\\appdata\\\\local\\\\programs\\\\python\\\\python36\\\\lib\\\\site-packages (from ipython>=1.0->ipython-sql) (0.3.9)',\n",
       " 'Requirement already satisfied: pickleshare in c:\\\\users\\\\saurabh\\\\appdata\\\\local\\\\programs\\\\python\\\\python36\\\\lib\\\\site-packages (from ipython>=1.0->ipython-sql) (0.7.4)',\n",
       " 'Requirement already satisfied: prompt-toolkit<2.0.0,>=1.0.4 in c:\\\\users\\\\saurabh\\\\appdata\\\\local\\\\programs\\\\python\\\\python36\\\\lib\\\\site-packages (from ipython>=1.0->ipython-sql) (1.0.15)',\n",
       " 'Requirement already satisfied: pygments in c:\\\\users\\\\saurabh\\\\appdata\\\\local\\\\programs\\\\python\\\\python36\\\\lib\\\\site-packages (from ipython>=1.0->ipython-sql) (2.2.0)',\n",
       " 'Requirement already satisfied: setuptools>=18.5 in c:\\\\users\\\\saurabh\\\\appdata\\\\local\\\\programs\\\\python\\\\python36\\\\lib\\\\site-packages (from ipython>=1.0->ipython-sql) (38.5.1)',\n",
       " 'Requirement already satisfied: simplegeneric>0.8 in c:\\\\users\\\\saurabh\\\\appdata\\\\local\\\\programs\\\\python\\\\python36\\\\lib\\\\site-packages (from ipython>=1.0->ipython-sql) (0.8.1)',\n",
       " 'Requirement already satisfied: traitlets>=4.2 in c:\\\\users\\\\saurabh\\\\appdata\\\\local\\\\programs\\\\python\\\\python36\\\\lib\\\\site-packages (from ipython>=1.0->ipython-sql) (4.3.2)',\n",
       " 'Requirement already satisfied: decorator in c:\\\\users\\\\saurabh\\\\appdata\\\\local\\\\programs\\\\python\\\\python36\\\\lib\\\\site-packages (from ipython>=1.0->ipython-sql) (4.2.1)',\n",
       " 'Requirement already satisfied: jedi>=0.10 in c:\\\\users\\\\saurabh\\\\appdata\\\\local\\\\programs\\\\python\\\\python36\\\\lib\\\\site-packages (from ipython>=1.0->ipython-sql) (0.11.1)',\n",
       " 'Requirement already satisfied: wcwidth in c:\\\\users\\\\saurabh\\\\appdata\\\\local\\\\programs\\\\python\\\\python36\\\\lib\\\\site-packages (from prompt-toolkit<2.0.0,>=1.0.4->ipython>=1.0->ipython-sql) (0.1.7)',\n",
       " 'Requirement already satisfied: parso==0.1.1 in c:\\\\users\\\\saurabh\\\\appdata\\\\local\\\\programs\\\\python\\\\python36\\\\lib\\\\site-packages (from jedi>=0.10->ipython>=1.0->ipython-sql) (0.1.1)',\n",
       " 'Installing collected packages: prettytable, sqlparse, ipython-sql',\n",
       " '  Running setup.py install for prettytable: started',\n",
       " \"    Running setup.py install for prettytable: finished with status 'done'\",\n",
       " 'Successfully installed ipython-sql-0.3.9 prettytable-0.7.2 sqlparse-0.2.4']"
      ]
     },
     "execution_count": 1,
     "metadata": {},
     "output_type": "execute_result"
    }
   ],
   "source": [
    "%%!\n",
    "pip install ipython-sql"
   ]
  },
  {
   "cell_type": "markdown",
   "metadata": {},
   "source": [
    "### Sql extension \n",
    "to connect to different types of databases. Here we are connecting to a local empty sqlite database, but you can connect to any of the database that is supported by SQLAlchemy"
   ]
  },
  {
   "cell_type": "code",
   "execution_count": 2,
   "metadata": {},
   "outputs": [],
   "source": [
    "%load_ext sql"
   ]
  },
  {
   "cell_type": "code",
   "execution_count": 3,
   "metadata": {},
   "outputs": [
    {
     "data": {
      "text/plain": [
       "'Connected: @None'"
      ]
     },
     "execution_count": 3,
     "metadata": {},
     "output_type": "execute_result"
    }
   ],
   "source": [
    "%sql sqlite://"
   ]
  },
  {
   "cell_type": "code",
   "execution_count": 4,
   "metadata": {},
   "outputs": [
    {
     "name": "stdout",
     "output_type": "stream",
     "text": [
      " * sqlite://\n",
      "Done.\n",
      "1 rows affected.\n",
      "1 rows affected.\n"
     ]
    },
    {
     "data": {
      "text/plain": [
       "[]"
      ]
     },
     "execution_count": 4,
     "metadata": {},
     "output_type": "execute_result"
    }
   ],
   "source": [
    "%%sql\n",
    "CREATE TABLE classroom(name, age, totalmarks);\n",
    "INSERT INTO classroom VALUES ('Raj', 20, 89);\n",
    "INSERT INTO classroom VALUES ('Poonam', 24, 84);"
   ]
  },
  {
   "cell_type": "code",
   "execution_count": 6,
   "metadata": {},
   "outputs": [
    {
     "name": "stdout",
     "output_type": "stream",
     "text": [
      " * sqlite://\n",
      "Done.\n"
     ]
    },
    {
     "data": {
      "text/html": [
       "<table>\n",
       "    <tr>\n",
       "        <th>name</th>\n",
       "        <th>age</th>\n",
       "        <th>totalmarks</th>\n",
       "    </tr>\n",
       "    <tr>\n",
       "        <td>Raj</td>\n",
       "        <td>20</td>\n",
       "        <td>89</td>\n",
       "    </tr>\n",
       "    <tr>\n",
       "        <td>Poonam</td>\n",
       "        <td>24</td>\n",
       "        <td>84</td>\n",
       "    </tr>\n",
       "</table>"
      ],
      "text/plain": [
       "[('Raj', 20, 89), ('Poonam', 24, 84)]"
      ]
     },
     "execution_count": 6,
     "metadata": {},
     "output_type": "execute_result"
    }
   ],
   "source": [
    "%sql SELECT * from classroom;"
   ]
  },
  {
   "cell_type": "markdown",
   "metadata": {},
   "source": [
    "#### magic function : lsmagic\n",
    "List of all available magic function"
   ]
  },
  {
   "cell_type": "code",
   "execution_count": 14,
   "metadata": {},
   "outputs": [
    {
     "data": {
      "application/json": {
       "cell": {
        "!": "OSMagics",
        "HTML": "Other",
        "SVG": "Other",
        "bash": "Other",
        "capture": "ExecutionMagics",
        "cmd": "Other",
        "debug": "ExecutionMagics",
        "file": "Other",
        "html": "DisplayMagics",
        "javascript": "DisplayMagics",
        "js": "DisplayMagics",
        "latex": "DisplayMagics",
        "perl": "Other",
        "prun": "ExecutionMagics",
        "pypy": "Other",
        "python": "Other",
        "python2": "Other",
        "python3": "Other",
        "ruby": "Other",
        "script": "ScriptMagics",
        "sh": "Other",
        "sql": "SqlMagic",
        "svg": "DisplayMagics",
        "sx": "OSMagics",
        "system": "OSMagics",
        "time": "ExecutionMagics",
        "timeit": "ExecutionMagics",
        "writefile": "OSMagics"
       },
       "line": {
        "alias": "OSMagics",
        "alias_magic": "BasicMagics",
        "autocall": "AutoMagics",
        "automagic": "AutoMagics",
        "autosave": "KernelMagics",
        "bookmark": "OSMagics",
        "cd": "OSMagics",
        "clear": "KernelMagics",
        "cls": "KernelMagics",
        "colors": "BasicMagics",
        "config": "ConfigMagics",
        "connect_info": "KernelMagics",
        "copy": "Other",
        "ddir": "Other",
        "debug": "ExecutionMagics",
        "dhist": "OSMagics",
        "dirs": "OSMagics",
        "doctest_mode": "BasicMagics",
        "echo": "Other",
        "ed": "Other",
        "edit": "KernelMagics",
        "env": "OSMagics",
        "gui": "BasicMagics",
        "hist": "Other",
        "history": "HistoryMagics",
        "killbgscripts": "ScriptMagics",
        "ldir": "Other",
        "less": "KernelMagics",
        "load": "CodeMagics",
        "load_ext": "ExtensionMagics",
        "loadpy": "CodeMagics",
        "logoff": "LoggingMagics",
        "logon": "LoggingMagics",
        "logstart": "LoggingMagics",
        "logstate": "LoggingMagics",
        "logstop": "LoggingMagics",
        "ls": "Other",
        "lsmagic": "BasicMagics",
        "macro": "ExecutionMagics",
        "magic": "BasicMagics",
        "matplotlib": "PylabMagics",
        "mkdir": "Other",
        "more": "KernelMagics",
        "notebook": "BasicMagics",
        "page": "BasicMagics",
        "pastebin": "CodeMagics",
        "pdb": "ExecutionMagics",
        "pdef": "NamespaceMagics",
        "pdoc": "NamespaceMagics",
        "pfile": "NamespaceMagics",
        "pinfo": "NamespaceMagics",
        "pinfo2": "NamespaceMagics",
        "popd": "OSMagics",
        "pprint": "BasicMagics",
        "precision": "BasicMagics",
        "profile": "BasicMagics",
        "prun": "ExecutionMagics",
        "psearch": "NamespaceMagics",
        "psource": "NamespaceMagics",
        "pushd": "OSMagics",
        "pwd": "OSMagics",
        "pycat": "OSMagics",
        "pylab": "PylabMagics",
        "qtconsole": "KernelMagics",
        "quickref": "BasicMagics",
        "recall": "HistoryMagics",
        "rehashx": "OSMagics",
        "reload_ext": "ExtensionMagics",
        "ren": "Other",
        "rep": "Other",
        "rerun": "HistoryMagics",
        "reset": "NamespaceMagics",
        "reset_selective": "NamespaceMagics",
        "rmdir": "Other",
        "run": "ExecutionMagics",
        "save": "CodeMagics",
        "sc": "OSMagics",
        "set_env": "OSMagics",
        "sql": "SqlMagic",
        "store": "StoreMagics",
        "sx": "OSMagics",
        "system": "OSMagics",
        "tb": "ExecutionMagics",
        "time": "ExecutionMagics",
        "timeit": "ExecutionMagics",
        "unalias": "OSMagics",
        "unload_ext": "ExtensionMagics",
        "who": "NamespaceMagics",
        "who_ls": "NamespaceMagics",
        "whos": "NamespaceMagics",
        "xdel": "NamespaceMagics",
        "xmode": "BasicMagics"
       }
      },
      "text/plain": [
       "Available line magics:\n",
       "%alias  %alias_magic  %autocall  %automagic  %autosave  %bookmark  %cd  %clear  %cls  %colors  %config  %connect_info  %copy  %ddir  %debug  %dhist  %dirs  %doctest_mode  %echo  %ed  %edit  %env  %gui  %hist  %history  %killbgscripts  %ldir  %less  %load  %load_ext  %loadpy  %logoff  %logon  %logstart  %logstate  %logstop  %ls  %lsmagic  %macro  %magic  %matplotlib  %mkdir  %more  %notebook  %page  %pastebin  %pdb  %pdef  %pdoc  %pfile  %pinfo  %pinfo2  %popd  %pprint  %precision  %profile  %prun  %psearch  %psource  %pushd  %pwd  %pycat  %pylab  %qtconsole  %quickref  %recall  %rehashx  %reload_ext  %ren  %rep  %rerun  %reset  %reset_selective  %rmdir  %run  %save  %sc  %set_env  %sql  %store  %sx  %system  %tb  %time  %timeit  %unalias  %unload_ext  %who  %who_ls  %whos  %xdel  %xmode\n",
       "\n",
       "Available cell magics:\n",
       "%%!  %%HTML  %%SVG  %%bash  %%capture  %%cmd  %%debug  %%file  %%html  %%javascript  %%js  %%latex  %%perl  %%prun  %%pypy  %%python  %%python2  %%python3  %%ruby  %%script  %%sh  %%sql  %%svg  %%sx  %%system  %%time  %%timeit  %%writefile\n",
       "\n",
       "Automagic is ON, % prefix IS NOT needed for line magics."
      ]
     },
     "execution_count": 14,
     "metadata": {},
     "output_type": "execute_result"
    }
   ],
   "source": [
    "%lsmagic"
   ]
  },
  {
   "cell_type": "code",
   "execution_count": null,
   "metadata": {
    "collapsed": true
   },
   "outputs": [],
   "source": []
  }
 ],
 "metadata": {
  "anaconda-cloud": {},
  "kernelspec": {
   "display_name": "Python 3",
   "language": "python",
   "name": "python3"
  },
  "language_info": {
   "codemirror_mode": {
    "name": "ipython",
    "version": 3
   },
   "file_extension": ".py",
   "mimetype": "text/x-python",
   "name": "python",
   "nbconvert_exporter": "python",
   "pygments_lexer": "ipython3",
   "version": "3.6.3"
  }
 },
 "nbformat": 4,
 "nbformat_minor": 1
}
